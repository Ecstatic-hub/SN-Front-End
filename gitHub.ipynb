{
  "nbformat": 4,
  "nbformat_minor": 0,
  "metadata": {
    "colab": {
      "name": "GitHUd.ipynb",
      "provenance": [],
      "collapsed_sections": []
    },
    "kernelspec": {
      "name": "python3",
      "display_name": "Python 3"
    },
    "language_info": {
      "name": "python"
    }
  },
  "cells": [
    {
      "cell_type": "code",
      "metadata": {
        "id": "bhpjCbcod2Vg"
      },
      "source": [
        "Githun and Gitbash to host files on a remote server Open Git bash and execute the following bold text\n",
        "\n",
        "1. Open Git bash and execute the following\n",
        "2. cd Desktop\n",
        "3. git clone your URL repository\n",
        "3. cd put the exact name of new repo already cloned here\n",
        "4. add a new file to the folder created\n",
        "5. cd name of local directory\n",
        "6. git add\n",
        "7. git commit -m \"add a friendly message\"\n",
        "8. git push\n",
        "9. refresh gitHub new repo webpage to save changes"
      ],
      "execution_count": null,
      "outputs": []
    }
  ]
}